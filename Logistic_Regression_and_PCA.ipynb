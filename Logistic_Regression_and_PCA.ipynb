{
  "nbformat": 4,
  "nbformat_minor": 0,
  "metadata": {
    "colab": {
      "name": "Logistic Regression and PCA.ipynb",
      "provenance": [],
      "collapsed_sections": [],
      "authorship_tag": "ABX9TyMUASYlPTUbza6rr6ViGB9J",
      "include_colab_link": true
    },
    "kernelspec": {
      "name": "python3",
      "display_name": "Python 3"
    },
    "language_info": {
      "name": "python"
    }
  },
  "cells": [
    {
      "cell_type": "markdown",
      "metadata": {
        "id": "view-in-github",
        "colab_type": "text"
      },
      "source": [
        "<a href=\"https://colab.research.google.com/github/babaroscopy/ML/blob/main/Logistic_Regression_and_PCA.ipynb\" target=\"_parent\"><img src=\"https://colab.research.google.com/assets/colab-badge.svg\" alt=\"Open In Colab\"/></a>"
      ]
    },
    {
      "cell_type": "code",
      "execution_count": 1,
      "metadata": {
        "id": "fa_mk6emHAaC"
      },
      "outputs": [],
      "source": [
        "import numpy as np \n",
        "import pandas as pd\n",
        "from sklearn.linear_model import LogisticRegression\n",
        "from sklearn.metrics import confusion_matrix\n",
        "from sklearn.tree import DecisionTreeClassifier\n",
        "from sklearn import preprocessing\n",
        "from sklearn.model_selection import train_test_split\n",
        "from sklearn import metrics\n",
        "from sklearn.metrics import classification_report\n",
        "import matplotlib.pyplot as plt\n",
        "from sklearn.metrics import precision_score\n",
        "from sklearn.metrics import recall_score\n",
        "import matplotlib.image as mpimg\n",
        "from sklearn.decomposition import PCA\n",
        "from sklearn import tree\n",
        "from sklearn import preprocessing\n",
        "from sklearn.naive_bayes import GaussianNB\n",
        "from sklearn.neural_network import MLPClassifier\n",
        "%matplotlib inline "
      ]
    },
    {
      "cell_type": "code",
      "source": [
        "df=pd.read_csv(\"wfp_food_prices_pakistan.csv\", delimiter=\",\")\n",
        "df.shape"
      ],
      "metadata": {
        "colab": {
          "base_uri": "https://localhost:8080/"
        },
        "id": "LduNqhVvInSr",
        "outputId": "f72d6bac-834c-42e2-f0bb-88c8ef8c43dc"
      },
      "execution_count": 2,
      "outputs": [
        {
          "output_type": "execute_result",
          "data": {
            "text/plain": [
              "(7663, 17)"
            ]
          },
          "metadata": {},
          "execution_count": 2
        }
      ]
    },
    {
      "cell_type": "code",
      "source": [
        "del df['default']"
      ],
      "metadata": {
        "id": "jj8j-w8hKajo"
      },
      "execution_count": 3,
      "outputs": []
    },
    {
      "cell_type": "code",
      "source": [
        "df.dropna(inplace=True)\n",
        "df.head(4)"
      ],
      "metadata": {
        "colab": {
          "base_uri": "https://localhost:8080/",
          "height": 378
        },
        "id": "UdfpflzYKflQ",
        "outputId": "5fdcae38-b9d1-46e4-f35b-78a51c8494e3"
      },
      "execution_count": 4,
      "outputs": [
        {
          "output_type": "execute_result",
          "data": {
            "text/plain": [
              "         date                cmname unit            category  price currency  \\\n",
              "1  2004-01-15  Wheat flour - Retail   KG  cereals and tubers   13.0      PKR   \n",
              "2  2004-02-15  Wheat flour - Retail   KG  cereals and tubers   13.0      PKR   \n",
              "3  2004-03-15  Wheat flour - Retail   KG  cereals and tubers  14.25      PKR   \n",
              "4  2004-04-15  Wheat flour - Retail   KG  cereals and tubers   12.5      PKR   \n",
              "\n",
              "    country      admname adm1id mktname  mktid cmid  ptid  umid catid  \\\n",
              "1  Pakistan  Balochistan   2272  Quetta  295.0   58  15.0   5.0     1   \n",
              "2  Pakistan  Balochistan   2272  Quetta  295.0   58  15.0   5.0     1   \n",
              "3  Pakistan  Balochistan   2272  Quetta  295.0   58  15.0   5.0     1   \n",
              "4  Pakistan  Balochistan   2272  Quetta  295.0   58  15.0   5.0     1   \n",
              "\n",
              "            sn  \n",
              "1  295_58_15_5  \n",
              "2  295_58_15_5  \n",
              "3  295_58_15_5  \n",
              "4  295_58_15_5  "
            ],
            "text/html": [
              "\n",
              "  <div id=\"df-0c76a006-3cda-40df-9b6b-099c73328312\">\n",
              "    <div class=\"colab-df-container\">\n",
              "      <div>\n",
              "<style scoped>\n",
              "    .dataframe tbody tr th:only-of-type {\n",
              "        vertical-align: middle;\n",
              "    }\n",
              "\n",
              "    .dataframe tbody tr th {\n",
              "        vertical-align: top;\n",
              "    }\n",
              "\n",
              "    .dataframe thead th {\n",
              "        text-align: right;\n",
              "    }\n",
              "</style>\n",
              "<table border=\"1\" class=\"dataframe\">\n",
              "  <thead>\n",
              "    <tr style=\"text-align: right;\">\n",
              "      <th></th>\n",
              "      <th>date</th>\n",
              "      <th>cmname</th>\n",
              "      <th>unit</th>\n",
              "      <th>category</th>\n",
              "      <th>price</th>\n",
              "      <th>currency</th>\n",
              "      <th>country</th>\n",
              "      <th>admname</th>\n",
              "      <th>adm1id</th>\n",
              "      <th>mktname</th>\n",
              "      <th>mktid</th>\n",
              "      <th>cmid</th>\n",
              "      <th>ptid</th>\n",
              "      <th>umid</th>\n",
              "      <th>catid</th>\n",
              "      <th>sn</th>\n",
              "    </tr>\n",
              "  </thead>\n",
              "  <tbody>\n",
              "    <tr>\n",
              "      <th>1</th>\n",
              "      <td>2004-01-15</td>\n",
              "      <td>Wheat flour - Retail</td>\n",
              "      <td>KG</td>\n",
              "      <td>cereals and tubers</td>\n",
              "      <td>13.0</td>\n",
              "      <td>PKR</td>\n",
              "      <td>Pakistan</td>\n",
              "      <td>Balochistan</td>\n",
              "      <td>2272</td>\n",
              "      <td>Quetta</td>\n",
              "      <td>295.0</td>\n",
              "      <td>58</td>\n",
              "      <td>15.0</td>\n",
              "      <td>5.0</td>\n",
              "      <td>1</td>\n",
              "      <td>295_58_15_5</td>\n",
              "    </tr>\n",
              "    <tr>\n",
              "      <th>2</th>\n",
              "      <td>2004-02-15</td>\n",
              "      <td>Wheat flour - Retail</td>\n",
              "      <td>KG</td>\n",
              "      <td>cereals and tubers</td>\n",
              "      <td>13.0</td>\n",
              "      <td>PKR</td>\n",
              "      <td>Pakistan</td>\n",
              "      <td>Balochistan</td>\n",
              "      <td>2272</td>\n",
              "      <td>Quetta</td>\n",
              "      <td>295.0</td>\n",
              "      <td>58</td>\n",
              "      <td>15.0</td>\n",
              "      <td>5.0</td>\n",
              "      <td>1</td>\n",
              "      <td>295_58_15_5</td>\n",
              "    </tr>\n",
              "    <tr>\n",
              "      <th>3</th>\n",
              "      <td>2004-03-15</td>\n",
              "      <td>Wheat flour - Retail</td>\n",
              "      <td>KG</td>\n",
              "      <td>cereals and tubers</td>\n",
              "      <td>14.25</td>\n",
              "      <td>PKR</td>\n",
              "      <td>Pakistan</td>\n",
              "      <td>Balochistan</td>\n",
              "      <td>2272</td>\n",
              "      <td>Quetta</td>\n",
              "      <td>295.0</td>\n",
              "      <td>58</td>\n",
              "      <td>15.0</td>\n",
              "      <td>5.0</td>\n",
              "      <td>1</td>\n",
              "      <td>295_58_15_5</td>\n",
              "    </tr>\n",
              "    <tr>\n",
              "      <th>4</th>\n",
              "      <td>2004-04-15</td>\n",
              "      <td>Wheat flour - Retail</td>\n",
              "      <td>KG</td>\n",
              "      <td>cereals and tubers</td>\n",
              "      <td>12.5</td>\n",
              "      <td>PKR</td>\n",
              "      <td>Pakistan</td>\n",
              "      <td>Balochistan</td>\n",
              "      <td>2272</td>\n",
              "      <td>Quetta</td>\n",
              "      <td>295.0</td>\n",
              "      <td>58</td>\n",
              "      <td>15.0</td>\n",
              "      <td>5.0</td>\n",
              "      <td>1</td>\n",
              "      <td>295_58_15_5</td>\n",
              "    </tr>\n",
              "  </tbody>\n",
              "</table>\n",
              "</div>\n",
              "      <button class=\"colab-df-convert\" onclick=\"convertToInteractive('df-0c76a006-3cda-40df-9b6b-099c73328312')\"\n",
              "              title=\"Convert this dataframe to an interactive table.\"\n",
              "              style=\"display:none;\">\n",
              "        \n",
              "  <svg xmlns=\"http://www.w3.org/2000/svg\" height=\"24px\"viewBox=\"0 0 24 24\"\n",
              "       width=\"24px\">\n",
              "    <path d=\"M0 0h24v24H0V0z\" fill=\"none\"/>\n",
              "    <path d=\"M18.56 5.44l.94 2.06.94-2.06 2.06-.94-2.06-.94-.94-2.06-.94 2.06-2.06.94zm-11 1L8.5 8.5l.94-2.06 2.06-.94-2.06-.94L8.5 2.5l-.94 2.06-2.06.94zm10 10l.94 2.06.94-2.06 2.06-.94-2.06-.94-.94-2.06-.94 2.06-2.06.94z\"/><path d=\"M17.41 7.96l-1.37-1.37c-.4-.4-.92-.59-1.43-.59-.52 0-1.04.2-1.43.59L10.3 9.45l-7.72 7.72c-.78.78-.78 2.05 0 2.83L4 21.41c.39.39.9.59 1.41.59.51 0 1.02-.2 1.41-.59l7.78-7.78 2.81-2.81c.8-.78.8-2.07 0-2.86zM5.41 20L4 18.59l7.72-7.72 1.47 1.35L5.41 20z\"/>\n",
              "  </svg>\n",
              "      </button>\n",
              "      \n",
              "  <style>\n",
              "    .colab-df-container {\n",
              "      display:flex;\n",
              "      flex-wrap:wrap;\n",
              "      gap: 12px;\n",
              "    }\n",
              "\n",
              "    .colab-df-convert {\n",
              "      background-color: #E8F0FE;\n",
              "      border: none;\n",
              "      border-radius: 50%;\n",
              "      cursor: pointer;\n",
              "      display: none;\n",
              "      fill: #1967D2;\n",
              "      height: 32px;\n",
              "      padding: 0 0 0 0;\n",
              "      width: 32px;\n",
              "    }\n",
              "\n",
              "    .colab-df-convert:hover {\n",
              "      background-color: #E2EBFA;\n",
              "      box-shadow: 0px 1px 2px rgba(60, 64, 67, 0.3), 0px 1px 3px 1px rgba(60, 64, 67, 0.15);\n",
              "      fill: #174EA6;\n",
              "    }\n",
              "\n",
              "    [theme=dark] .colab-df-convert {\n",
              "      background-color: #3B4455;\n",
              "      fill: #D2E3FC;\n",
              "    }\n",
              "\n",
              "    [theme=dark] .colab-df-convert:hover {\n",
              "      background-color: #434B5C;\n",
              "      box-shadow: 0px 1px 3px 1px rgba(0, 0, 0, 0.15);\n",
              "      filter: drop-shadow(0px 1px 2px rgba(0, 0, 0, 0.3));\n",
              "      fill: #FFFFFF;\n",
              "    }\n",
              "  </style>\n",
              "\n",
              "      <script>\n",
              "        const buttonEl =\n",
              "          document.querySelector('#df-0c76a006-3cda-40df-9b6b-099c73328312 button.colab-df-convert');\n",
              "        buttonEl.style.display =\n",
              "          google.colab.kernel.accessAllowed ? 'block' : 'none';\n",
              "\n",
              "        async function convertToInteractive(key) {\n",
              "          const element = document.querySelector('#df-0c76a006-3cda-40df-9b6b-099c73328312');\n",
              "          const dataTable =\n",
              "            await google.colab.kernel.invokeFunction('convertToInteractive',\n",
              "                                                     [key], {});\n",
              "          if (!dataTable) return;\n",
              "\n",
              "          const docLinkHtml = 'Like what you see? Visit the ' +\n",
              "            '<a target=\"_blank\" href=https://colab.research.google.com/notebooks/data_table.ipynb>data table notebook</a>'\n",
              "            + ' to learn more about interactive tables.';\n",
              "          element.innerHTML = '';\n",
              "          dataTable['output_type'] = 'display_data';\n",
              "          await google.colab.output.renderOutput(dataTable, element);\n",
              "          const docLink = document.createElement('div');\n",
              "          docLink.innerHTML = docLinkHtml;\n",
              "          element.appendChild(docLink);\n",
              "        }\n",
              "      </script>\n",
              "    </div>\n",
              "  </div>\n",
              "  "
            ]
          },
          "metadata": {},
          "execution_count": 4
        }
      ]
    },
    {
      "cell_type": "code",
      "source": [
        "print(df.nunique())"
      ],
      "metadata": {
        "colab": {
          "base_uri": "https://localhost:8080/"
        },
        "id": "B-647mwNXDq_",
        "outputId": "83c4dc50-69aa-4180-e6ea-02f74671220b"
      },
      "execution_count": 5,
      "outputs": [
        {
          "output_type": "stream",
          "name": "stdout",
          "text": [
            "date         190\n",
            "cmname        17\n",
            "unit           4\n",
            "category       7\n",
            "price       2988\n",
            "currency       1\n",
            "country        1\n",
            "admname        4\n",
            "adm1id         4\n",
            "mktname        5\n",
            "mktid          5\n",
            "cmid          17\n",
            "ptid           1\n",
            "umid           4\n",
            "catid          7\n",
            "sn            85\n",
            "dtype: int64\n"
          ]
        }
      ]
    },
    {
      "cell_type": "code",
      "source": [
        "from sklearn import preprocessing\n",
        "label_enco = preprocessing.LabelEncoder()\n",
        "d = df.select_dtypes(include=['object'])\n",
        "for i in d.columns:\n",
        "    df[i]=label_enco.fit_transform(df[i])"
      ],
      "metadata": {
        "id": "a7IjDLEmIsBx"
      },
      "execution_count": 6,
      "outputs": []
    },
    {
      "cell_type": "code",
      "source": [
        "Y=df['category']\n",
        "del df['category']\n",
        "X=df"
      ],
      "metadata": {
        "id": "S-KFNhrPIuo8"
      },
      "execution_count": 7,
      "outputs": []
    },
    {
      "cell_type": "code",
      "source": [
        "from sklearn.preprocessing import StandardScaler\n",
        "sc = StandardScaler()\n",
        "X = sc.fit_transform(X)"
      ],
      "metadata": {
        "id": "oUoB6lbzLmbO"
      },
      "execution_count": 8,
      "outputs": []
    },
    {
      "cell_type": "code",
      "source": [
        "X_trainset, X_testset, y_trainset, y_testset = train_test_split(X, Y, test_size=0.3, random_state=3)"
      ],
      "metadata": {
        "id": "wb-mPhe6IvP7"
      },
      "execution_count": 9,
      "outputs": []
    },
    {
      "cell_type": "code",
      "source": [
        "LR = LogisticRegression(C=0.01, solver='lbfgs', multi_class='multinomial')\n",
        "LR.fit(X_trainset,y_trainset)\n",
        "yhat = LR.predict(X_testset)\n",
        "print(\"Accuracy: \", metrics.accuracy_score(y_testset, yhat))"
      ],
      "metadata": {
        "colab": {
          "base_uri": "https://localhost:8080/"
        },
        "id": "IE74QpgUIxmU",
        "outputId": "ddddf3cb-e9bd-4c9b-cd8c-db6df9f33eca"
      },
      "execution_count": 10,
      "outputs": [
        {
          "output_type": "stream",
          "name": "stdout",
          "text": [
            "Accuracy:  0.9834710743801653\n"
          ]
        }
      ]
    },
    {
      "cell_type": "code",
      "source": [
        "print(classification_report(y_testset, yhat))"
      ],
      "metadata": {
        "colab": {
          "base_uri": "https://localhost:8080/"
        },
        "id": "2-_Kdf2HIzsp",
        "outputId": "a15be7b2-00dd-4c69-ca7a-fb01d2773404"
      },
      "execution_count": 11,
      "outputs": [
        {
          "output_type": "stream",
          "name": "stdout",
          "text": [
            "              precision    recall  f1-score   support\n",
            "\n",
            "           0       0.97      1.00      0.99      1032\n",
            "           1       1.00      0.84      0.91       191\n",
            "           2       1.00      0.96      0.98        75\n",
            "           3       1.00      1.00      1.00       184\n",
            "           4       1.00      0.98      0.99       301\n",
            "           5       0.97      1.00      0.98       247\n",
            "           6       1.00      1.00      1.00       269\n",
            "\n",
            "    accuracy                           0.98      2299\n",
            "   macro avg       0.99      0.97      0.98      2299\n",
            "weighted avg       0.98      0.98      0.98      2299\n",
            "\n"
          ]
        }
      ]
    },
    {
      "cell_type": "code",
      "source": [
        "print(confusion_matrix(y_testset, yhat))"
      ],
      "metadata": {
        "colab": {
          "base_uri": "https://localhost:8080/"
        },
        "id": "cbJfsKuxI1rB",
        "outputId": "cf03d601-70ad-46ac-d351-fcf5f79bdc73"
      },
      "execution_count": 12,
      "outputs": [
        {
          "output_type": "stream",
          "name": "stdout",
          "text": [
            "[[1032    0    0    0    0    0    0]\n",
            " [  30  161    0    0    0    0    0]\n",
            " [   0    0   72    0    0    3    0]\n",
            " [   0    0    0  184    0    0    0]\n",
            " [   0    0    0    0  296    5    0]\n",
            " [   0    0    0    0    0  247    0]\n",
            " [   0    0    0    0    0    0  269]]\n"
          ]
        }
      ]
    },
    {
      "cell_type": "code",
      "source": [
        ""
      ],
      "metadata": {
        "id": "3WAOBCbsTInC"
      },
      "execution_count": null,
      "outputs": []
    },
    {
      "cell_type": "markdown",
      "source": [
        "**With PCA**"
      ],
      "metadata": {
        "id": "aAezU6JkWMx0"
      }
    },
    {
      "cell_type": "code",
      "source": [
        ""
      ],
      "metadata": {
        "id": "acWy4XN4TIti"
      },
      "execution_count": null,
      "outputs": []
    },
    {
      "cell_type": "code",
      "source": [
        "df=pd.read_csv(\"wfp_food_prices_pakistan.csv\", delimiter=\",\")\n",
        "df.shape"
      ],
      "metadata": {
        "colab": {
          "base_uri": "https://localhost:8080/"
        },
        "outputId": "a8817c77-9ade-488d-8890-9ebe9313a967",
        "id": "8ZT8bWOITSBL"
      },
      "execution_count": 13,
      "outputs": [
        {
          "output_type": "execute_result",
          "data": {
            "text/plain": [
              "(7663, 17)"
            ]
          },
          "metadata": {},
          "execution_count": 13
        }
      ]
    },
    {
      "cell_type": "code",
      "source": [
        "del df['default']"
      ],
      "metadata": {
        "id": "BtaZ6YoATIwb"
      },
      "execution_count": 14,
      "outputs": []
    },
    {
      "cell_type": "code",
      "source": [
        "df.dropna(inplace=True)\n",
        "df.head(4)"
      ],
      "metadata": {
        "colab": {
          "base_uri": "https://localhost:8080/",
          "height": 378
        },
        "id": "uA9o4471Tbf3",
        "outputId": "3cfffc6c-7389-4fd7-c982-46c09a996854"
      },
      "execution_count": 15,
      "outputs": [
        {
          "output_type": "execute_result",
          "data": {
            "text/plain": [
              "         date                cmname unit            category  price currency  \\\n",
              "1  2004-01-15  Wheat flour - Retail   KG  cereals and tubers   13.0      PKR   \n",
              "2  2004-02-15  Wheat flour - Retail   KG  cereals and tubers   13.0      PKR   \n",
              "3  2004-03-15  Wheat flour - Retail   KG  cereals and tubers  14.25      PKR   \n",
              "4  2004-04-15  Wheat flour - Retail   KG  cereals and tubers   12.5      PKR   \n",
              "\n",
              "    country      admname adm1id mktname  mktid cmid  ptid  umid catid  \\\n",
              "1  Pakistan  Balochistan   2272  Quetta  295.0   58  15.0   5.0     1   \n",
              "2  Pakistan  Balochistan   2272  Quetta  295.0   58  15.0   5.0     1   \n",
              "3  Pakistan  Balochistan   2272  Quetta  295.0   58  15.0   5.0     1   \n",
              "4  Pakistan  Balochistan   2272  Quetta  295.0   58  15.0   5.0     1   \n",
              "\n",
              "            sn  \n",
              "1  295_58_15_5  \n",
              "2  295_58_15_5  \n",
              "3  295_58_15_5  \n",
              "4  295_58_15_5  "
            ],
            "text/html": [
              "\n",
              "  <div id=\"df-2835c327-c44b-42cb-99ce-b40ddd400657\">\n",
              "    <div class=\"colab-df-container\">\n",
              "      <div>\n",
              "<style scoped>\n",
              "    .dataframe tbody tr th:only-of-type {\n",
              "        vertical-align: middle;\n",
              "    }\n",
              "\n",
              "    .dataframe tbody tr th {\n",
              "        vertical-align: top;\n",
              "    }\n",
              "\n",
              "    .dataframe thead th {\n",
              "        text-align: right;\n",
              "    }\n",
              "</style>\n",
              "<table border=\"1\" class=\"dataframe\">\n",
              "  <thead>\n",
              "    <tr style=\"text-align: right;\">\n",
              "      <th></th>\n",
              "      <th>date</th>\n",
              "      <th>cmname</th>\n",
              "      <th>unit</th>\n",
              "      <th>category</th>\n",
              "      <th>price</th>\n",
              "      <th>currency</th>\n",
              "      <th>country</th>\n",
              "      <th>admname</th>\n",
              "      <th>adm1id</th>\n",
              "      <th>mktname</th>\n",
              "      <th>mktid</th>\n",
              "      <th>cmid</th>\n",
              "      <th>ptid</th>\n",
              "      <th>umid</th>\n",
              "      <th>catid</th>\n",
              "      <th>sn</th>\n",
              "    </tr>\n",
              "  </thead>\n",
              "  <tbody>\n",
              "    <tr>\n",
              "      <th>1</th>\n",
              "      <td>2004-01-15</td>\n",
              "      <td>Wheat flour - Retail</td>\n",
              "      <td>KG</td>\n",
              "      <td>cereals and tubers</td>\n",
              "      <td>13.0</td>\n",
              "      <td>PKR</td>\n",
              "      <td>Pakistan</td>\n",
              "      <td>Balochistan</td>\n",
              "      <td>2272</td>\n",
              "      <td>Quetta</td>\n",
              "      <td>295.0</td>\n",
              "      <td>58</td>\n",
              "      <td>15.0</td>\n",
              "      <td>5.0</td>\n",
              "      <td>1</td>\n",
              "      <td>295_58_15_5</td>\n",
              "    </tr>\n",
              "    <tr>\n",
              "      <th>2</th>\n",
              "      <td>2004-02-15</td>\n",
              "      <td>Wheat flour - Retail</td>\n",
              "      <td>KG</td>\n",
              "      <td>cereals and tubers</td>\n",
              "      <td>13.0</td>\n",
              "      <td>PKR</td>\n",
              "      <td>Pakistan</td>\n",
              "      <td>Balochistan</td>\n",
              "      <td>2272</td>\n",
              "      <td>Quetta</td>\n",
              "      <td>295.0</td>\n",
              "      <td>58</td>\n",
              "      <td>15.0</td>\n",
              "      <td>5.0</td>\n",
              "      <td>1</td>\n",
              "      <td>295_58_15_5</td>\n",
              "    </tr>\n",
              "    <tr>\n",
              "      <th>3</th>\n",
              "      <td>2004-03-15</td>\n",
              "      <td>Wheat flour - Retail</td>\n",
              "      <td>KG</td>\n",
              "      <td>cereals and tubers</td>\n",
              "      <td>14.25</td>\n",
              "      <td>PKR</td>\n",
              "      <td>Pakistan</td>\n",
              "      <td>Balochistan</td>\n",
              "      <td>2272</td>\n",
              "      <td>Quetta</td>\n",
              "      <td>295.0</td>\n",
              "      <td>58</td>\n",
              "      <td>15.0</td>\n",
              "      <td>5.0</td>\n",
              "      <td>1</td>\n",
              "      <td>295_58_15_5</td>\n",
              "    </tr>\n",
              "    <tr>\n",
              "      <th>4</th>\n",
              "      <td>2004-04-15</td>\n",
              "      <td>Wheat flour - Retail</td>\n",
              "      <td>KG</td>\n",
              "      <td>cereals and tubers</td>\n",
              "      <td>12.5</td>\n",
              "      <td>PKR</td>\n",
              "      <td>Pakistan</td>\n",
              "      <td>Balochistan</td>\n",
              "      <td>2272</td>\n",
              "      <td>Quetta</td>\n",
              "      <td>295.0</td>\n",
              "      <td>58</td>\n",
              "      <td>15.0</td>\n",
              "      <td>5.0</td>\n",
              "      <td>1</td>\n",
              "      <td>295_58_15_5</td>\n",
              "    </tr>\n",
              "  </tbody>\n",
              "</table>\n",
              "</div>\n",
              "      <button class=\"colab-df-convert\" onclick=\"convertToInteractive('df-2835c327-c44b-42cb-99ce-b40ddd400657')\"\n",
              "              title=\"Convert this dataframe to an interactive table.\"\n",
              "              style=\"display:none;\">\n",
              "        \n",
              "  <svg xmlns=\"http://www.w3.org/2000/svg\" height=\"24px\"viewBox=\"0 0 24 24\"\n",
              "       width=\"24px\">\n",
              "    <path d=\"M0 0h24v24H0V0z\" fill=\"none\"/>\n",
              "    <path d=\"M18.56 5.44l.94 2.06.94-2.06 2.06-.94-2.06-.94-.94-2.06-.94 2.06-2.06.94zm-11 1L8.5 8.5l.94-2.06 2.06-.94-2.06-.94L8.5 2.5l-.94 2.06-2.06.94zm10 10l.94 2.06.94-2.06 2.06-.94-2.06-.94-.94-2.06-.94 2.06-2.06.94z\"/><path d=\"M17.41 7.96l-1.37-1.37c-.4-.4-.92-.59-1.43-.59-.52 0-1.04.2-1.43.59L10.3 9.45l-7.72 7.72c-.78.78-.78 2.05 0 2.83L4 21.41c.39.39.9.59 1.41.59.51 0 1.02-.2 1.41-.59l7.78-7.78 2.81-2.81c.8-.78.8-2.07 0-2.86zM5.41 20L4 18.59l7.72-7.72 1.47 1.35L5.41 20z\"/>\n",
              "  </svg>\n",
              "      </button>\n",
              "      \n",
              "  <style>\n",
              "    .colab-df-container {\n",
              "      display:flex;\n",
              "      flex-wrap:wrap;\n",
              "      gap: 12px;\n",
              "    }\n",
              "\n",
              "    .colab-df-convert {\n",
              "      background-color: #E8F0FE;\n",
              "      border: none;\n",
              "      border-radius: 50%;\n",
              "      cursor: pointer;\n",
              "      display: none;\n",
              "      fill: #1967D2;\n",
              "      height: 32px;\n",
              "      padding: 0 0 0 0;\n",
              "      width: 32px;\n",
              "    }\n",
              "\n",
              "    .colab-df-convert:hover {\n",
              "      background-color: #E2EBFA;\n",
              "      box-shadow: 0px 1px 2px rgba(60, 64, 67, 0.3), 0px 1px 3px 1px rgba(60, 64, 67, 0.15);\n",
              "      fill: #174EA6;\n",
              "    }\n",
              "\n",
              "    [theme=dark] .colab-df-convert {\n",
              "      background-color: #3B4455;\n",
              "      fill: #D2E3FC;\n",
              "    }\n",
              "\n",
              "    [theme=dark] .colab-df-convert:hover {\n",
              "      background-color: #434B5C;\n",
              "      box-shadow: 0px 1px 3px 1px rgba(0, 0, 0, 0.15);\n",
              "      filter: drop-shadow(0px 1px 2px rgba(0, 0, 0, 0.3));\n",
              "      fill: #FFFFFF;\n",
              "    }\n",
              "  </style>\n",
              "\n",
              "      <script>\n",
              "        const buttonEl =\n",
              "          document.querySelector('#df-2835c327-c44b-42cb-99ce-b40ddd400657 button.colab-df-convert');\n",
              "        buttonEl.style.display =\n",
              "          google.colab.kernel.accessAllowed ? 'block' : 'none';\n",
              "\n",
              "        async function convertToInteractive(key) {\n",
              "          const element = document.querySelector('#df-2835c327-c44b-42cb-99ce-b40ddd400657');\n",
              "          const dataTable =\n",
              "            await google.colab.kernel.invokeFunction('convertToInteractive',\n",
              "                                                     [key], {});\n",
              "          if (!dataTable) return;\n",
              "\n",
              "          const docLinkHtml = 'Like what you see? Visit the ' +\n",
              "            '<a target=\"_blank\" href=https://colab.research.google.com/notebooks/data_table.ipynb>data table notebook</a>'\n",
              "            + ' to learn more about interactive tables.';\n",
              "          element.innerHTML = '';\n",
              "          dataTable['output_type'] = 'display_data';\n",
              "          await google.colab.output.renderOutput(dataTable, element);\n",
              "          const docLink = document.createElement('div');\n",
              "          docLink.innerHTML = docLinkHtml;\n",
              "          element.appendChild(docLink);\n",
              "        }\n",
              "      </script>\n",
              "    </div>\n",
              "  </div>\n",
              "  "
            ]
          },
          "metadata": {},
          "execution_count": 15
        }
      ]
    },
    {
      "cell_type": "code",
      "source": [
        "from sklearn import preprocessing\n",
        "label_enco = preprocessing.LabelEncoder()\n",
        "d = df.select_dtypes(include=['object'])\n",
        "for i in d.columns:\n",
        "    df[i]=label_enco.fit_transform(df[i])"
      ],
      "metadata": {
        "id": "eyDqs7U3TXKF"
      },
      "execution_count": 16,
      "outputs": []
    },
    {
      "cell_type": "code",
      "source": [
        "Y=df['category']\n",
        "del df['category']\n",
        "X=df"
      ],
      "metadata": {
        "id": "xt6rr10UTgRV"
      },
      "execution_count": 17,
      "outputs": []
    },
    {
      "cell_type": "code",
      "source": [
        "from sklearn.preprocessing import StandardScaler\n",
        "sc = StandardScaler()\n",
        "X = sc.fit_transform(X)"
      ],
      "metadata": {
        "id": "rX_6oSezTgUK"
      },
      "execution_count": 18,
      "outputs": []
    },
    {
      "cell_type": "code",
      "source": [
        "pca_model = PCA(n_components=2)\n",
        "pca_model.fit(X)\n",
        "pca_data = pd.DataFrame(pca_model.transform(X))\n",
        "\n",
        "print('Sample PCA data:')\n",
        "print(pca_data.sample(5))\n",
        "print('')"
      ],
      "metadata": {
        "colab": {
          "base_uri": "https://localhost:8080/"
        },
        "id": "p2cymJl3T5e_",
        "outputId": "7ae04eab-8345-4974-a10a-4259eadfc525"
      },
      "execution_count": 19,
      "outputs": [
        {
          "output_type": "stream",
          "name": "stdout",
          "text": [
            "Sample PCA data:\n",
            "             0         1\n",
            "2339  1.389193  0.849337\n",
            "3905 -1.967227  1.168223\n",
            "5912 -0.893377  2.547371\n",
            "2913  1.536841  1.067504\n",
            "1881  1.618142  0.623512\n",
            "\n"
          ]
        }
      ]
    },
    {
      "cell_type": "code",
      "source": [
        "pca_model.explained_variance_ratio_"
      ],
      "metadata": {
        "colab": {
          "base_uri": "https://localhost:8080/"
        },
        "id": "twZhussKa-ly",
        "outputId": "c738d220-b553-4c8b-c2f0-c9a6fb8d3f2a"
      },
      "execution_count": 25,
      "outputs": [
        {
          "output_type": "execute_result",
          "data": {
            "text/plain": [
              "array([0.35057786, 0.17716497])"
            ]
          },
          "metadata": {},
          "execution_count": 25
        }
      ]
    },
    {
      "cell_type": "code",
      "source": [
        "X_trainset, X_testset, y_trainset, y_testset = train_test_split(pca_data, Y, test_size=0.3, random_state=3)"
      ],
      "metadata": {
        "id": "zlcpENgAVMV9"
      },
      "execution_count": 20,
      "outputs": []
    },
    {
      "cell_type": "code",
      "source": [
        "LR = LogisticRegression(C=0.01, solver='lbfgs', multi_class='multinomial')\n",
        "LR.fit(X_trainset,y_trainset)\n",
        "yhat = LR.predict(X_testset)\n",
        "print(\"Accuracy: \", metrics.accuracy_score(y_testset, yhat))"
      ],
      "metadata": {
        "colab": {
          "base_uri": "https://localhost:8080/"
        },
        "id": "Zfq2EuiJVfaE",
        "outputId": "3f3bbcb5-4df6-4bdf-ed74-e04e601a88a4"
      },
      "execution_count": 21,
      "outputs": [
        {
          "output_type": "stream",
          "name": "stdout",
          "text": [
            "Accuracy:  0.6907351022183558\n"
          ]
        }
      ]
    },
    {
      "cell_type": "code",
      "source": [
        "print(classification_report(y_testset, yhat))"
      ],
      "metadata": {
        "colab": {
          "base_uri": "https://localhost:8080/"
        },
        "id": "fpq1_mH1Vfpl",
        "outputId": "d5005aaf-760e-459c-fb1f-d22c171d8d37"
      },
      "execution_count": 22,
      "outputs": [
        {
          "output_type": "stream",
          "name": "stdout",
          "text": [
            "              precision    recall  f1-score   support\n",
            "\n",
            "           0       0.85      1.00      0.92      1032\n",
            "           1       0.00      0.00      0.00       191\n",
            "           2       0.00      0.00      0.00        75\n",
            "           3       0.00      0.00      0.00       184\n",
            "           4       0.79      1.00      0.88       301\n",
            "           5       0.00      0.00      0.00       247\n",
            "           6       0.36      0.95      0.53       269\n",
            "\n",
            "    accuracy                           0.69      2299\n",
            "   macro avg       0.29      0.42      0.33      2299\n",
            "weighted avg       0.53      0.69      0.59      2299\n",
            "\n"
          ]
        },
        {
          "output_type": "stream",
          "name": "stderr",
          "text": [
            "/usr/local/lib/python3.7/dist-packages/sklearn/metrics/_classification.py:1318: UndefinedMetricWarning: Precision and F-score are ill-defined and being set to 0.0 in labels with no predicted samples. Use `zero_division` parameter to control this behavior.\n",
            "  _warn_prf(average, modifier, msg_start, len(result))\n",
            "/usr/local/lib/python3.7/dist-packages/sklearn/metrics/_classification.py:1318: UndefinedMetricWarning: Precision and F-score are ill-defined and being set to 0.0 in labels with no predicted samples. Use `zero_division` parameter to control this behavior.\n",
            "  _warn_prf(average, modifier, msg_start, len(result))\n",
            "/usr/local/lib/python3.7/dist-packages/sklearn/metrics/_classification.py:1318: UndefinedMetricWarning: Precision and F-score are ill-defined and being set to 0.0 in labels with no predicted samples. Use `zero_division` parameter to control this behavior.\n",
            "  _warn_prf(average, modifier, msg_start, len(result))\n"
          ]
        }
      ]
    },
    {
      "cell_type": "code",
      "source": [
        "print(confusion_matrix(y_testset, yhat))"
      ],
      "metadata": {
        "colab": {
          "base_uri": "https://localhost:8080/"
        },
        "id": "17b7apLpWHWo",
        "outputId": "7b460e14-2212-40e4-f406-af930d724d33"
      },
      "execution_count": 23,
      "outputs": [
        {
          "output_type": "stream",
          "name": "stdout",
          "text": [
            "[[1032    0    0    0    0    0    0]\n",
            " [ 115    0    0    0   70    0    6]\n",
            " [   0    0    0    0    0    0   75]\n",
            " [  65    0    0    0    0    0  119]\n",
            " [   0    0    0    0  301    0    0]\n",
            " [   0    0    0    0    3    0  244]\n",
            " [   5    0    0    0    9    0  255]]\n"
          ]
        }
      ]
    },
    {
      "cell_type": "code",
      "source": [
        ""
      ],
      "metadata": {
        "id": "ygTMNXtDWH3-"
      },
      "execution_count": null,
      "outputs": []
    },
    {
      "cell_type": "code",
      "source": [
        ""
      ],
      "metadata": {
        "id": "4Sq___OrWH6i"
      },
      "execution_count": null,
      "outputs": []
    },
    {
      "cell_type": "code",
      "source": [
        ""
      ],
      "metadata": {
        "id": "ktzR2NGKbKTM"
      },
      "execution_count": null,
      "outputs": []
    },
    {
      "cell_type": "code",
      "source": [
        ""
      ],
      "metadata": {
        "id": "H9A-PaOvbKrs"
      },
      "execution_count": null,
      "outputs": []
    },
    {
      "cell_type": "code",
      "source": [
        "#pca = PCA(n_components=2)\n",
        "#principalComponents = pca.fit_transform(X)\n",
        "\n",
        "\n",
        "#principalDf = pd.DataFrame(data = principalComponents, columns = ['principal component 1', 'principal component 2'])"
      ],
      "metadata": {
        "id": "0MLXzF5_FNym"
      },
      "execution_count": null,
      "outputs": []
    },
    {
      "cell_type": "code",
      "source": [
        "#finalDf = pd.concat([principalDf, Y], axis = 1)"
      ],
      "metadata": {
        "id": "_sDAcIH0FdWU"
      },
      "execution_count": null,
      "outputs": []
    },
    {
      "cell_type": "code",
      "source": [
        "#fig = plt.figure(figsize = (8,8))\n",
        "#ax = fig.add_subplot(1,1,1) \n",
        "#ax.set_xlabel('Principal Component 1', fontsize = 15)\n",
        "#ax.set_ylabel('Principal Component 2', fontsize = 15)\n",
        "#ax.set_title('2 component PCA', fontsize = 20)\n",
        "#targets = ['13.0', '50.0', '100.0']\n",
        "#colors = ['r', 'g', 'b']\n",
        "#for target, color in zip(targets,colors):\n",
        "#    indicesToKeep = finalDf['price'] == target\n",
        "#    ax.scatter(finalDf.loc[indicesToKeep, 'principal component 1']\n",
        "#               , finalDf.loc[indicesToKeep, 'principal component 2']\n",
        "#               , c = color\n",
        "#               , s = 50)\n",
        "#ax.legend(targets)\n",
        "#ax.grid()"
      ],
      "metadata": {
        "id": "r0vaAwA2GApU"
      },
      "execution_count": null,
      "outputs": []
    },
    {
      "cell_type": "code",
      "source": [
        "#pca.explained_variance_ratio_"
      ],
      "metadata": {
        "colab": {
          "base_uri": "https://localhost:8080/"
        },
        "id": "X7XV-UVzJc2l",
        "outputId": "2ed0b8f7-b385-41f6-a6a7-7e029f07949f"
      },
      "execution_count": null,
      "outputs": [
        {
          "output_type": "execute_result",
          "data": {
            "text/plain": [
              "array([0.35076589, 0.23509138])"
            ]
          },
          "metadata": {},
          "execution_count": 13
        }
      ]
    },
    {
      "cell_type": "code",
      "source": [
        ""
      ],
      "metadata": {
        "id": "V4hDWWuNJc5J"
      },
      "execution_count": null,
      "outputs": []
    },
    {
      "cell_type": "code",
      "source": [
        ""
      ],
      "metadata": {
        "id": "FGX8ZiHFKPt7"
      },
      "execution_count": null,
      "outputs": []
    },
    {
      "cell_type": "code",
      "source": [
        ""
      ],
      "metadata": {
        "id": "eTVbC6L3U2Ed"
      },
      "execution_count": null,
      "outputs": []
    },
    {
      "cell_type": "code",
      "source": [
        "#dataf=pd.read_csv(\"wfp_food_prices_pakistan.csv\", delimiter=\",\")\n",
        "#dataf.shape"
      ],
      "metadata": {
        "colab": {
          "base_uri": "https://localhost:8080/"
        },
        "id": "HLcqpzEkJc7l",
        "outputId": "e74f5d99-09d9-4d63-ee93-cf11959f2bf9"
      },
      "execution_count": null,
      "outputs": [
        {
          "output_type": "execute_result",
          "data": {
            "text/plain": [
              "(7663, 17)"
            ]
          },
          "metadata": {},
          "execution_count": 14
        }
      ]
    },
    {
      "cell_type": "code",
      "source": [
        "#del dataf['default']"
      ],
      "metadata": {
        "id": "KYvys0wNJdgB"
      },
      "execution_count": null,
      "outputs": []
    },
    {
      "cell_type": "code",
      "source": [
        "#dataf.dropna(inplace=True)\n",
        "#dataf.head(4)"
      ],
      "metadata": {
        "colab": {
          "base_uri": "https://localhost:8080/",
          "height": 378
        },
        "id": "vrrhuxZyKO0W",
        "outputId": "3008223e-37db-4999-e028-41aa9dc14131"
      },
      "execution_count": null,
      "outputs": [
        {
          "output_type": "execute_result",
          "data": {
            "text/plain": [
              "         date                cmname unit            category  price currency  \\\n",
              "1  2004-01-15  Wheat flour - Retail   KG  cereals and tubers   13.0      PKR   \n",
              "2  2004-02-15  Wheat flour - Retail   KG  cereals and tubers   13.0      PKR   \n",
              "3  2004-03-15  Wheat flour - Retail   KG  cereals and tubers  14.25      PKR   \n",
              "4  2004-04-15  Wheat flour - Retail   KG  cereals and tubers   12.5      PKR   \n",
              "\n",
              "    country      admname adm1id mktname  mktid cmid  ptid  umid catid  \\\n",
              "1  Pakistan  Balochistan   2272  Quetta  295.0   58  15.0   5.0     1   \n",
              "2  Pakistan  Balochistan   2272  Quetta  295.0   58  15.0   5.0     1   \n",
              "3  Pakistan  Balochistan   2272  Quetta  295.0   58  15.0   5.0     1   \n",
              "4  Pakistan  Balochistan   2272  Quetta  295.0   58  15.0   5.0     1   \n",
              "\n",
              "            sn  \n",
              "1  295_58_15_5  \n",
              "2  295_58_15_5  \n",
              "3  295_58_15_5  \n",
              "4  295_58_15_5  "
            ],
            "text/html": [
              "\n",
              "  <div id=\"df-8a719fa9-b7ab-4fe6-a06a-d5ca4ce3fbee\">\n",
              "    <div class=\"colab-df-container\">\n",
              "      <div>\n",
              "<style scoped>\n",
              "    .dataframe tbody tr th:only-of-type {\n",
              "        vertical-align: middle;\n",
              "    }\n",
              "\n",
              "    .dataframe tbody tr th {\n",
              "        vertical-align: top;\n",
              "    }\n",
              "\n",
              "    .dataframe thead th {\n",
              "        text-align: right;\n",
              "    }\n",
              "</style>\n",
              "<table border=\"1\" class=\"dataframe\">\n",
              "  <thead>\n",
              "    <tr style=\"text-align: right;\">\n",
              "      <th></th>\n",
              "      <th>date</th>\n",
              "      <th>cmname</th>\n",
              "      <th>unit</th>\n",
              "      <th>category</th>\n",
              "      <th>price</th>\n",
              "      <th>currency</th>\n",
              "      <th>country</th>\n",
              "      <th>admname</th>\n",
              "      <th>adm1id</th>\n",
              "      <th>mktname</th>\n",
              "      <th>mktid</th>\n",
              "      <th>cmid</th>\n",
              "      <th>ptid</th>\n",
              "      <th>umid</th>\n",
              "      <th>catid</th>\n",
              "      <th>sn</th>\n",
              "    </tr>\n",
              "  </thead>\n",
              "  <tbody>\n",
              "    <tr>\n",
              "      <th>1</th>\n",
              "      <td>2004-01-15</td>\n",
              "      <td>Wheat flour - Retail</td>\n",
              "      <td>KG</td>\n",
              "      <td>cereals and tubers</td>\n",
              "      <td>13.0</td>\n",
              "      <td>PKR</td>\n",
              "      <td>Pakistan</td>\n",
              "      <td>Balochistan</td>\n",
              "      <td>2272</td>\n",
              "      <td>Quetta</td>\n",
              "      <td>295.0</td>\n",
              "      <td>58</td>\n",
              "      <td>15.0</td>\n",
              "      <td>5.0</td>\n",
              "      <td>1</td>\n",
              "      <td>295_58_15_5</td>\n",
              "    </tr>\n",
              "    <tr>\n",
              "      <th>2</th>\n",
              "      <td>2004-02-15</td>\n",
              "      <td>Wheat flour - Retail</td>\n",
              "      <td>KG</td>\n",
              "      <td>cereals and tubers</td>\n",
              "      <td>13.0</td>\n",
              "      <td>PKR</td>\n",
              "      <td>Pakistan</td>\n",
              "      <td>Balochistan</td>\n",
              "      <td>2272</td>\n",
              "      <td>Quetta</td>\n",
              "      <td>295.0</td>\n",
              "      <td>58</td>\n",
              "      <td>15.0</td>\n",
              "      <td>5.0</td>\n",
              "      <td>1</td>\n",
              "      <td>295_58_15_5</td>\n",
              "    </tr>\n",
              "    <tr>\n",
              "      <th>3</th>\n",
              "      <td>2004-03-15</td>\n",
              "      <td>Wheat flour - Retail</td>\n",
              "      <td>KG</td>\n",
              "      <td>cereals and tubers</td>\n",
              "      <td>14.25</td>\n",
              "      <td>PKR</td>\n",
              "      <td>Pakistan</td>\n",
              "      <td>Balochistan</td>\n",
              "      <td>2272</td>\n",
              "      <td>Quetta</td>\n",
              "      <td>295.0</td>\n",
              "      <td>58</td>\n",
              "      <td>15.0</td>\n",
              "      <td>5.0</td>\n",
              "      <td>1</td>\n",
              "      <td>295_58_15_5</td>\n",
              "    </tr>\n",
              "    <tr>\n",
              "      <th>4</th>\n",
              "      <td>2004-04-15</td>\n",
              "      <td>Wheat flour - Retail</td>\n",
              "      <td>KG</td>\n",
              "      <td>cereals and tubers</td>\n",
              "      <td>12.5</td>\n",
              "      <td>PKR</td>\n",
              "      <td>Pakistan</td>\n",
              "      <td>Balochistan</td>\n",
              "      <td>2272</td>\n",
              "      <td>Quetta</td>\n",
              "      <td>295.0</td>\n",
              "      <td>58</td>\n",
              "      <td>15.0</td>\n",
              "      <td>5.0</td>\n",
              "      <td>1</td>\n",
              "      <td>295_58_15_5</td>\n",
              "    </tr>\n",
              "  </tbody>\n",
              "</table>\n",
              "</div>\n",
              "      <button class=\"colab-df-convert\" onclick=\"convertToInteractive('df-8a719fa9-b7ab-4fe6-a06a-d5ca4ce3fbee')\"\n",
              "              title=\"Convert this dataframe to an interactive table.\"\n",
              "              style=\"display:none;\">\n",
              "        \n",
              "  <svg xmlns=\"http://www.w3.org/2000/svg\" height=\"24px\"viewBox=\"0 0 24 24\"\n",
              "       width=\"24px\">\n",
              "    <path d=\"M0 0h24v24H0V0z\" fill=\"none\"/>\n",
              "    <path d=\"M18.56 5.44l.94 2.06.94-2.06 2.06-.94-2.06-.94-.94-2.06-.94 2.06-2.06.94zm-11 1L8.5 8.5l.94-2.06 2.06-.94-2.06-.94L8.5 2.5l-.94 2.06-2.06.94zm10 10l.94 2.06.94-2.06 2.06-.94-2.06-.94-.94-2.06-.94 2.06-2.06.94z\"/><path d=\"M17.41 7.96l-1.37-1.37c-.4-.4-.92-.59-1.43-.59-.52 0-1.04.2-1.43.59L10.3 9.45l-7.72 7.72c-.78.78-.78 2.05 0 2.83L4 21.41c.39.39.9.59 1.41.59.51 0 1.02-.2 1.41-.59l7.78-7.78 2.81-2.81c.8-.78.8-2.07 0-2.86zM5.41 20L4 18.59l7.72-7.72 1.47 1.35L5.41 20z\"/>\n",
              "  </svg>\n",
              "      </button>\n",
              "      \n",
              "  <style>\n",
              "    .colab-df-container {\n",
              "      display:flex;\n",
              "      flex-wrap:wrap;\n",
              "      gap: 12px;\n",
              "    }\n",
              "\n",
              "    .colab-df-convert {\n",
              "      background-color: #E8F0FE;\n",
              "      border: none;\n",
              "      border-radius: 50%;\n",
              "      cursor: pointer;\n",
              "      display: none;\n",
              "      fill: #1967D2;\n",
              "      height: 32px;\n",
              "      padding: 0 0 0 0;\n",
              "      width: 32px;\n",
              "    }\n",
              "\n",
              "    .colab-df-convert:hover {\n",
              "      background-color: #E2EBFA;\n",
              "      box-shadow: 0px 1px 2px rgba(60, 64, 67, 0.3), 0px 1px 3px 1px rgba(60, 64, 67, 0.15);\n",
              "      fill: #174EA6;\n",
              "    }\n",
              "\n",
              "    [theme=dark] .colab-df-convert {\n",
              "      background-color: #3B4455;\n",
              "      fill: #D2E3FC;\n",
              "    }\n",
              "\n",
              "    [theme=dark] .colab-df-convert:hover {\n",
              "      background-color: #434B5C;\n",
              "      box-shadow: 0px 1px 3px 1px rgba(0, 0, 0, 0.15);\n",
              "      filter: drop-shadow(0px 1px 2px rgba(0, 0, 0, 0.3));\n",
              "      fill: #FFFFFF;\n",
              "    }\n",
              "  </style>\n",
              "\n",
              "      <script>\n",
              "        const buttonEl =\n",
              "          document.querySelector('#df-8a719fa9-b7ab-4fe6-a06a-d5ca4ce3fbee button.colab-df-convert');\n",
              "        buttonEl.style.display =\n",
              "          google.colab.kernel.accessAllowed ? 'block' : 'none';\n",
              "\n",
              "        async function convertToInteractive(key) {\n",
              "          const element = document.querySelector('#df-8a719fa9-b7ab-4fe6-a06a-d5ca4ce3fbee');\n",
              "          const dataTable =\n",
              "            await google.colab.kernel.invokeFunction('convertToInteractive',\n",
              "                                                     [key], {});\n",
              "          if (!dataTable) return;\n",
              "\n",
              "          const docLinkHtml = 'Like what you see? Visit the ' +\n",
              "            '<a target=\"_blank\" href=https://colab.research.google.com/notebooks/data_table.ipynb>data table notebook</a>'\n",
              "            + ' to learn more about interactive tables.';\n",
              "          element.innerHTML = '';\n",
              "          dataTable['output_type'] = 'display_data';\n",
              "          await google.colab.output.renderOutput(dataTable, element);\n",
              "          const docLink = document.createElement('div');\n",
              "          docLink.innerHTML = docLinkHtml;\n",
              "          element.appendChild(docLink);\n",
              "        }\n",
              "      </script>\n",
              "    </div>\n",
              "  </div>\n",
              "  "
            ]
          },
          "metadata": {},
          "execution_count": 16
        }
      ]
    },
    {
      "cell_type": "code",
      "source": [
        "#y=dataf['cmname']\n",
        "#del dataf['cmname']\n",
        "#x=dataf"
      ],
      "metadata": {
        "id": "L2c9l95wKO3H"
      },
      "execution_count": null,
      "outputs": []
    },
    {
      "cell_type": "code",
      "source": [
        "#from sklearn import preprocessing\n",
        "#label_enco = preprocessing.LabelEncoder()\n",
        "#d = x.select_dtypes(include=['object'])\n",
        "#for i in x.columns:\n",
        "#    x[i]=label_enco.fit_transform(x[i])"
      ],
      "metadata": {
        "id": "FK8dYBsCKO5l"
      },
      "execution_count": null,
      "outputs": []
    },
    {
      "cell_type": "code",
      "source": [
        "#from sklearn.preprocessing import StandardScaler\n",
        "#sc = StandardScaler()\n",
        "#x = sc.fit_transform(x)"
      ],
      "metadata": {
        "id": "LHycECfbKggZ"
      },
      "execution_count": null,
      "outputs": []
    },
    {
      "cell_type": "code",
      "source": [
        "#pca = PCA(n_components=2)\n",
        "#principalComponents = pca.fit_transform(x)\n",
        "#principalDf = pd.DataFrame(data = principalComponents, columns = ['principal component 1', 'principal component 2'])"
      ],
      "metadata": {
        "id": "91n-lirgKlCp"
      },
      "execution_count": null,
      "outputs": []
    },
    {
      "cell_type": "code",
      "source": [
        "#finalDf = pd.concat([principalDf, Y], axis = 1)"
      ],
      "metadata": {
        "id": "wtIic1k5KlFg"
      },
      "execution_count": null,
      "outputs": []
    },
    {
      "cell_type": "code",
      "source": [
        "#fig = plt.figure(figsize = (8,8))\n",
        "#ax = fig.add_subplot(1,1,1) \n",
        "#ax.set_xlabel('Principal Component 1', fontsize = 15)\n",
        "#ax.set_ylabel('Principal Component 2', fontsize = 15)\n",
        "#ax.set_title('2 component PCA', fontsize = 20)\n",
        "#targets = ['Wheat flour - Retail', 'Rice (basmati, broken) - Retail', 'Ghee (artificial) - Retail']\n",
        "#colors = ['r', 'g', 'b']\n",
        "#for target, color in zip(targets,colors):\n",
        "#    indicesToKeep = finalDf['price'] == target\n",
        "#    ax.scatter(finalDf.loc[indicesToKeep, 'principal component 1']\n",
        "#               , finalDf.loc[indicesToKeep, 'principal component 2']\n",
        "#               , c = color\n",
        "#               , s = 50)\n",
        "#ax.legend(targets)\n",
        "#ax.grid()"
      ],
      "metadata": {
        "colab": {
          "base_uri": "https://localhost:8080/",
          "height": 523
        },
        "id": "1tuakihjKgtj",
        "outputId": "4c85e588-793b-4ca2-ffd9-e8350e25dfa0"
      },
      "execution_count": null,
      "outputs": [
        {
          "output_type": "display_data",
          "data": {
            "text/plain": [
              "<Figure size 576x576 with 1 Axes>"
            ],
            "image/png": "[encoded data removed]"
          },
          "metadata": {
            "needs_background": "light"
          }
        }
      ]
    },
    {
      "cell_type": "code",
      "source": [
        "#pca.explained_variance_ratio_"
      ],
      "metadata": {
        "colab": {
          "base_uri": "https://localhost:8080/"
        },
        "id": "KHLAxuT9KwpM",
        "outputId": "5d8a57b7-b01a-4320-ca62-6fc1a0dd819a"
      },
      "execution_count": null,
      "outputs": [
        {
          "output_type": "execute_result",
          "data": {
            "text/plain": [
              "array([0.35065854, 0.20353515])"
            ]
          },
          "metadata": {},
          "execution_count": 23
        }
      ]
    }
  ]
}