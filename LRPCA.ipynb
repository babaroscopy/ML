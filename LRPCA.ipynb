{
  "nbformat": 4,
  "nbformat_minor": 0,
  "metadata": {
    "colab": {
      "name": "LRPCA.ipynb",
      "provenance": [],
      "collapsed_sections": [],
      "authorship_tag": "ABX9TyMKWGQRKi1IXDMApLM39cOX",
      "include_colab_link": true
    },
    "kernelspec": {
      "name": "python3",
      "display_name": "Python 3"
    },
    "language_info": {
      "name": "python"
    }
  },
  "cells": [
    {
      "cell_type": "markdown",
      "metadata": {
        "id": "view-in-github",
        "colab_type": "text"
      },
      "source": [
        "<a href=\"https://colab.research.google.com/github/babaroscopy/ML/blob/main/LRPCA.ipynb\" target=\"_parent\"><img src=\"https://colab.research.google.com/assets/colab-badge.svg\" alt=\"Open In Colab\"/></a>"
      ]
    },
    {
      "cell_type": "code",
      "execution_count": 26,
      "metadata": {
        "id": "fa_mk6emHAaC"
      },
      "outputs": [],
      "source": [
        "import numpy as np \n",
        "import pandas as pd\n",
        "from sklearn.linear_model import LogisticRegression\n",
        "from sklearn.metrics import confusion_matrix\n",
        "from sklearn.tree import DecisionTreeClassifier\n",
        "from sklearn import preprocessing\n",
        "from sklearn.model_selection import train_test_split\n",
        "from sklearn import metrics\n",
        "from sklearn.metrics import classification_report\n",
        "import matplotlib.pyplot as plt\n",
        "from sklearn.metrics import precision_score\n",
        "from sklearn.metrics import recall_score\n",
        "import matplotlib.image as mpimg\n",
        "from sklearn.decomposition import PCA\n",
        "from sklearn import tree\n",
        "from sklearn import preprocessing\n",
        "from sklearn.naive_bayes import GaussianNB\n",
        "from sklearn.neural_network import MLPClassifier\n",
        "%matplotlib inline "
      ]
    },
    {
      "cell_type": "code",
      "source": [
        "#https://www.kaggle.com/datasets/zusmani/pakistans-largest-ecommerce-dataset\n",
        "#read from kaggle/babaroscopy or below\n",
        "df=pd.read_csv(\"Pakistan_Largest_Ecommerce_Dataset.csv\", delimiter=\",\")\n",
        "df.shape"
      ],
      "metadata": {
        "colab": {
          "base_uri": "https://localhost:8080/"
        },
        "id": "LduNqhVvInSr",
        "outputId": "880dda0a-69fa-4aa1-d1b3-aac37c2093fc"
      },
      "execution_count": 27,
      "outputs": [
        {
          "output_type": "stream",
          "name": "stderr",
          "text": [
            "/usr/local/lib/python3.7/dist-packages/IPython/core/interactiveshell.py:2882: DtypeWarning: Columns (7) have mixed types.Specify dtype option on import or set low_memory=False.\n",
            "  exec(code_obj, self.user_global_ns, self.user_ns)\n"
          ]
        },
        {
          "output_type": "execute_result",
          "data": {
            "text/plain": [
              "(396147, 26)"
            ]
          },
          "metadata": {},
          "execution_count": 27
        }
      ]
    },
    {
      "cell_type": "code",
      "source": [
        "del df['Unnamed: 21']\n",
        "del df['Unnamed: 22']\n",
        "del df['Unnamed: 23']\n",
        "del df['Unnamed: 24']\n",
        "del df['Unnamed: 25']\n",
        "del df ['sales_commission_code']"
      ],
      "metadata": {
        "id": "jj8j-w8hKajo"
      },
      "execution_count": 28,
      "outputs": []
    },
    {
      "cell_type": "code",
      "source": [
        "df.dropna(inplace=True)\n",
        "df.head(4)"
      ],
      "metadata": {
        "colab": {
          "base_uri": "https://localhost:8080/",
          "height": 377
        },
        "id": "UdfpflzYKflQ",
        "outputId": "6d6f9b93-ade9-47a9-cb67-c3009a926432"
      },
      "execution_count": 29,
      "outputs": [
        {
          "output_type": "execute_result",
          "data": {
            "text/plain": [
              "   item_id    status created_at  \\\n",
              "0   211131  complete   7/1/2016   \n",
              "1   211133  canceled   7/1/2016   \n",
              "2   211134  canceled   7/1/2016   \n",
              "3   211135  complete   7/1/2016   \n",
              "\n",
              "                                                 sku   price  qty_ordered  \\\n",
              "0                                  kreations_YI 06-L  1950.0          1.0   \n",
              "1  kcc_Buy 2 Frey Air Freshener & Get 1 Kasual Bo...   240.0          1.0   \n",
              "2                                 Ego_UP0017-999-MR0  2450.0          1.0   \n",
              "3                                     kcc_krone deal   360.0          1.0   \n",
              "\n",
              "   grand_total increment_id    category_name_1  discount_amount  \\\n",
              "0       1950.0    100147443    Women's Fashion              0.0   \n",
              "1        240.0    100147444  Beauty & Grooming              0.0   \n",
              "2       2450.0    100147445    Women's Fashion              0.0   \n",
              "3         60.0    100147446  Beauty & Grooming            300.0   \n",
              "\n",
              "  payment_method Working Date BI Status      MV     Year  Month  \\\n",
              "0            cod     7/1/2016     #REF!   1,950   2016.0    7.0   \n",
              "1            cod     7/1/2016     Gross     240   2016.0    7.0   \n",
              "2            cod     7/1/2016     Gross   2,450   2016.0    7.0   \n",
              "3            cod     7/1/2016       Net     360   2016.0    7.0   \n",
              "\n",
              "  Customer Since     M-Y    FY  Customer ID  \n",
              "0         2016-7  7-2016  FY17          1.0  \n",
              "1         2016-7  7-2016  FY17          2.0  \n",
              "2         2016-7  7-2016  FY17          3.0  \n",
              "3         2016-7  7-2016  FY17          4.0  "
            ],
            "text/html": [
              "\n",
              "  <div id=\"df-70b773e1-9161-4d1e-87cd-f1b0162c99a7\">\n",
              "    <div class=\"colab-df-container\">\n",
              "      <div>\n",
              "<style scoped>\n",
              "    .dataframe tbody tr th:only-of-type {\n",
              "        vertical-align: middle;\n",
              "    }\n",
              "\n",
              "    .dataframe tbody tr th {\n",
              "        vertical-align: top;\n",
              "    }\n",
              "\n",
              "    .dataframe thead th {\n",
              "        text-align: right;\n",
              "    }\n",
              "</style>\n",
              "<table border=\"1\" class=\"dataframe\">\n",
              "  <thead>\n",
              "    <tr style=\"text-align: right;\">\n",
              "      <th></th>\n",
              "      <th>item_id</th>\n",
              "      <th>status</th>\n",
              "      <th>created_at</th>\n",
              "      <th>sku</th>\n",
              "      <th>price</th>\n",
              "      <th>qty_ordered</th>\n",
              "      <th>grand_total</th>\n",
              "      <th>increment_id</th>\n",
              "      <th>category_name_1</th>\n",
              "      <th>discount_amount</th>\n",
              "      <th>payment_method</th>\n",
              "      <th>Working Date</th>\n",
              "      <th>BI Status</th>\n",
              "      <th>MV</th>\n",
              "      <th>Year</th>\n",
              "      <th>Month</th>\n",
              "      <th>Customer Since</th>\n",
              "      <th>M-Y</th>\n",
              "      <th>FY</th>\n",
              "      <th>Customer ID</th>\n",
              "    </tr>\n",
              "  </thead>\n",
              "  <tbody>\n",
              "    <tr>\n",
              "      <th>0</th>\n",
              "      <td>211131</td>\n",
              "      <td>complete</td>\n",
              "      <td>7/1/2016</td>\n",
              "      <td>kreations_YI 06-L</td>\n",
              "      <td>1950.0</td>\n",
              "      <td>1.0</td>\n",
              "      <td>1950.0</td>\n",
              "      <td>100147443</td>\n",
              "      <td>Women's Fashion</td>\n",
              "      <td>0.0</td>\n",
              "      <td>cod</td>\n",
              "      <td>7/1/2016</td>\n",
              "      <td>#REF!</td>\n",
              "      <td>1,950</td>\n",
              "      <td>2016.0</td>\n",
              "      <td>7.0</td>\n",
              "      <td>2016-7</td>\n",
              "      <td>7-2016</td>\n",
              "      <td>FY17</td>\n",
              "      <td>1.0</td>\n",
              "    </tr>\n",
              "    <tr>\n",
              "      <th>1</th>\n",
              "      <td>211133</td>\n",
              "      <td>canceled</td>\n",
              "      <td>7/1/2016</td>\n",
              "      <td>kcc_Buy 2 Frey Air Freshener &amp; Get 1 Kasual Bo...</td>\n",
              "      <td>240.0</td>\n",
              "      <td>1.0</td>\n",
              "      <td>240.0</td>\n",
              "      <td>100147444</td>\n",
              "      <td>Beauty &amp; Grooming</td>\n",
              "      <td>0.0</td>\n",
              "      <td>cod</td>\n",
              "      <td>7/1/2016</td>\n",
              "      <td>Gross</td>\n",
              "      <td>240</td>\n",
              "      <td>2016.0</td>\n",
              "      <td>7.0</td>\n",
              "      <td>2016-7</td>\n",
              "      <td>7-2016</td>\n",
              "      <td>FY17</td>\n",
              "      <td>2.0</td>\n",
              "    </tr>\n",
              "    <tr>\n",
              "      <th>2</th>\n",
              "      <td>211134</td>\n",
              "      <td>canceled</td>\n",
              "      <td>7/1/2016</td>\n",
              "      <td>Ego_UP0017-999-MR0</td>\n",
              "      <td>2450.0</td>\n",
              "      <td>1.0</td>\n",
              "      <td>2450.0</td>\n",
              "      <td>100147445</td>\n",
              "      <td>Women's Fashion</td>\n",
              "      <td>0.0</td>\n",
              "      <td>cod</td>\n",
              "      <td>7/1/2016</td>\n",
              "      <td>Gross</td>\n",
              "      <td>2,450</td>\n",
              "      <td>2016.0</td>\n",
              "      <td>7.0</td>\n",
              "      <td>2016-7</td>\n",
              "      <td>7-2016</td>\n",
              "      <td>FY17</td>\n",
              "      <td>3.0</td>\n",
              "    </tr>\n",
              "    <tr>\n",
              "      <th>3</th>\n",
              "      <td>211135</td>\n",
              "      <td>complete</td>\n",
              "      <td>7/1/2016</td>\n",
              "      <td>kcc_krone deal</td>\n",
              "      <td>360.0</td>\n",
              "      <td>1.0</td>\n",
              "      <td>60.0</td>\n",
              "      <td>100147446</td>\n",
              "      <td>Beauty &amp; Grooming</td>\n",
              "      <td>300.0</td>\n",
              "      <td>cod</td>\n",
              "      <td>7/1/2016</td>\n",
              "      <td>Net</td>\n",
              "      <td>360</td>\n",
              "      <td>2016.0</td>\n",
              "      <td>7.0</td>\n",
              "      <td>2016-7</td>\n",
              "      <td>7-2016</td>\n",
              "      <td>FY17</td>\n",
              "      <td>4.0</td>\n",
              "    </tr>\n",
              "  </tbody>\n",
              "</table>\n",
              "</div>\n",
              "      <button class=\"colab-df-convert\" onclick=\"convertToInteractive('df-70b773e1-9161-4d1e-87cd-f1b0162c99a7')\"\n",
              "              title=\"Convert this dataframe to an interactive table.\"\n",
              "              style=\"display:none;\">\n",
              "        \n",
              "  <svg xmlns=\"http://www.w3.org/2000/svg\" height=\"24px\"viewBox=\"0 0 24 24\"\n",
              "       width=\"24px\">\n",
              "    <path d=\"M0 0h24v24H0V0z\" fill=\"none\"/>\n",
              "    <path d=\"M18.56 5.44l.94 2.06.94-2.06 2.06-.94-2.06-.94-.94-2.06-.94 2.06-2.06.94zm-11 1L8.5 8.5l.94-2.06 2.06-.94-2.06-.94L8.5 2.5l-.94 2.06-2.06.94zm10 10l.94 2.06.94-2.06 2.06-.94-2.06-.94-.94-2.06-.94 2.06-2.06.94z\"/><path d=\"M17.41 7.96l-1.37-1.37c-.4-.4-.92-.59-1.43-.59-.52 0-1.04.2-1.43.59L10.3 9.45l-7.72 7.72c-.78.78-.78 2.05 0 2.83L4 21.41c.39.39.9.59 1.41.59.51 0 1.02-.2 1.41-.59l7.78-7.78 2.81-2.81c.8-.78.8-2.07 0-2.86zM5.41 20L4 18.59l7.72-7.72 1.47 1.35L5.41 20z\"/>\n",
              "  </svg>\n",
              "      </button>\n",
              "      \n",
              "  <style>\n",
              "    .colab-df-container {\n",
              "      display:flex;\n",
              "      flex-wrap:wrap;\n",
              "      gap: 12px;\n",
              "    }\n",
              "\n",
              "    .colab-df-convert {\n",
              "      background-color: #E8F0FE;\n",
              "      border: none;\n",
              "      border-radius: 50%;\n",
              "      cursor: pointer;\n",
              "      display: none;\n",
              "      fill: #1967D2;\n",
              "      height: 32px;\n",
              "      padding: 0 0 0 0;\n",
              "      width: 32px;\n",
              "    }\n",
              "\n",
              "    .colab-df-convert:hover {\n",
              "      background-color: #E2EBFA;\n",
              "      box-shadow: 0px 1px 2px rgba(60, 64, 67, 0.3), 0px 1px 3px 1px rgba(60, 64, 67, 0.15);\n",
              "      fill: #174EA6;\n",
              "    }\n",
              "\n",
              "    [theme=dark] .colab-df-convert {\n",
              "      background-color: #3B4455;\n",
              "      fill: #D2E3FC;\n",
              "    }\n",
              "\n",
              "    [theme=dark] .colab-df-convert:hover {\n",
              "      background-color: #434B5C;\n",
              "      box-shadow: 0px 1px 3px 1px rgba(0, 0, 0, 0.15);\n",
              "      filter: drop-shadow(0px 1px 2px rgba(0, 0, 0, 0.3));\n",
              "      fill: #FFFFFF;\n",
              "    }\n",
              "  </style>\n",
              "\n",
              "      <script>\n",
              "        const buttonEl =\n",
              "          document.querySelector('#df-70b773e1-9161-4d1e-87cd-f1b0162c99a7 button.colab-df-convert');\n",
              "        buttonEl.style.display =\n",
              "          google.colab.kernel.accessAllowed ? 'block' : 'none';\n",
              "\n",
              "        async function convertToInteractive(key) {\n",
              "          const element = document.querySelector('#df-70b773e1-9161-4d1e-87cd-f1b0162c99a7');\n",
              "          const dataTable =\n",
              "            await google.colab.kernel.invokeFunction('convertToInteractive',\n",
              "                                                     [key], {});\n",
              "          if (!dataTable) return;\n",
              "\n",
              "          const docLinkHtml = 'Like what you see? Visit the ' +\n",
              "            '<a target=\"_blank\" href=https://colab.research.google.com/notebooks/data_table.ipynb>data table notebook</a>'\n",
              "            + ' to learn more about interactive tables.';\n",
              "          element.innerHTML = '';\n",
              "          dataTable['output_type'] = 'display_data';\n",
              "          await google.colab.output.renderOutput(dataTable, element);\n",
              "          const docLink = document.createElement('div');\n",
              "          docLink.innerHTML = docLinkHtml;\n",
              "          element.appendChild(docLink);\n",
              "        }\n",
              "      </script>\n",
              "    </div>\n",
              "  </div>\n",
              "  "
            ]
          },
          "metadata": {},
          "execution_count": 29
        }
      ]
    },
    {
      "cell_type": "code",
      "source": [
        "print(df.nunique())"
      ],
      "metadata": {
        "colab": {
          "base_uri": "https://localhost:8080/"
        },
        "id": "B-647mwNXDq_",
        "outputId": "2565fcde-1820-4f90-f94e-0f9f68ada410"
      },
      "execution_count": 30,
      "outputs": [
        {
          "output_type": "stream",
          "name": "stdout",
          "text": [
            "item_id            396126\n",
            "status                 13\n",
            "created_at            513\n",
            "sku                 53866\n",
            "price                6242\n",
            "qty_ordered            56\n",
            "grand_total         26533\n",
            "increment_id       274487\n",
            "category_name_1        16\n",
            "discount_amount     23636\n",
            "payment_method         17\n",
            "Working Date          513\n",
            "BI Status               4\n",
            " MV                  6749\n",
            "Year                    2\n",
            "Month                  12\n",
            "Customer Since         17\n",
            "M-Y                    17\n",
            "FY                      2\n",
            "Customer ID         79720\n",
            "dtype: int64\n"
          ]
        }
      ]
    },
    {
      "cell_type": "code",
      "source": [
        "from sklearn import preprocessing\n",
        "label_enco = preprocessing.LabelEncoder()\n",
        "d = df.select_dtypes(include=['object'])\n",
        "for i in d.columns:\n",
        "    df[i] = label_enco.fit_transform(df[i].astype(str))\n",
        "    #df[i]=label_enco.fit_transform(df[i])"
      ],
      "metadata": {
        "id": "a7IjDLEmIsBx"
      },
      "execution_count": 31,
      "outputs": []
    },
    {
      "cell_type": "code",
      "source": [
        "Y=df['category_name_1']\n",
        "del df['category_name_1']\n",
        "X=df"
      ],
      "metadata": {
        "id": "S-KFNhrPIuo8"
      },
      "execution_count": 32,
      "outputs": []
    },
    {
      "cell_type": "code",
      "source": [
        "from sklearn.preprocessing import StandardScaler\n",
        "sc = StandardScaler()\n",
        "X = sc.fit_transform(X)"
      ],
      "metadata": {
        "id": "oUoB6lbzLmbO"
      },
      "execution_count": 33,
      "outputs": []
    },
    {
      "cell_type": "code",
      "source": [
        "X_trainset, X_testset, y_trainset, y_testset = train_test_split(X, Y, test_size=0.3, random_state=3)"
      ],
      "metadata": {
        "id": "wb-mPhe6IvP7"
      },
      "execution_count": 34,
      "outputs": []
    },
    {
      "cell_type": "code",
      "source": [
        "LR = LogisticRegression(C=0.01, solver='lbfgs', multi_class='multinomial')\n",
        "LR.fit(X_trainset,y_trainset)\n",
        "yhat = LR.predict(X_testset)\n",
        "print(\"Accuracy: \", metrics.accuracy_score(y_testset, yhat))"
      ],
      "metadata": {
        "colab": {
          "base_uri": "https://localhost:8080/"
        },
        "id": "IE74QpgUIxmU",
        "outputId": "b38fae9b-09e6-406f-e97a-db2fb3af1fc3"
      },
      "execution_count": 35,
      "outputs": [
        {
          "output_type": "stream",
          "name": "stdout",
          "text": [
            "Accuracy:  0.3495430754472475\n"
          ]
        },
        {
          "output_type": "stream",
          "name": "stderr",
          "text": [
            "/usr/local/lib/python3.7/dist-packages/sklearn/linear_model/_logistic.py:818: ConvergenceWarning: lbfgs failed to converge (status=1):\n",
            "STOP: TOTAL NO. of ITERATIONS REACHED LIMIT.\n",
            "\n",
            "Increase the number of iterations (max_iter) or scale the data as shown in:\n",
            "    https://scikit-learn.org/stable/modules/preprocessing.html\n",
            "Please also refer to the documentation for alternative solver options:\n",
            "    https://scikit-learn.org/stable/modules/linear_model.html#logistic-regression\n",
            "  extra_warning_msg=_LOGISTIC_SOLVER_CONVERGENCE_MSG,\n"
          ]
        }
      ]
    },
    {
      "cell_type": "code",
      "source": [
        "print(classification_report(y_testset, yhat))"
      ],
      "metadata": {
        "colab": {
          "base_uri": "https://localhost:8080/"
        },
        "id": "2-_Kdf2HIzsp",
        "outputId": "897dea67-083e-4693-94de-ed3f9382ce9d"
      },
      "execution_count": 36,
      "outputs": [
        {
          "output_type": "stream",
          "name": "stderr",
          "text": [
            "/usr/local/lib/python3.7/dist-packages/sklearn/metrics/_classification.py:1318: UndefinedMetricWarning: Precision and F-score are ill-defined and being set to 0.0 in labels with no predicted samples. Use `zero_division` parameter to control this behavior.\n",
            "  _warn_prf(average, modifier, msg_start, len(result))\n",
            "/usr/local/lib/python3.7/dist-packages/sklearn/metrics/_classification.py:1318: UndefinedMetricWarning: Precision and F-score are ill-defined and being set to 0.0 in labels with no predicted samples. Use `zero_division` parameter to control this behavior.\n",
            "  _warn_prf(average, modifier, msg_start, len(result))\n"
          ]
        },
        {
          "output_type": "stream",
          "name": "stdout",
          "text": [
            "              precision    recall  f1-score   support\n",
            "\n",
            "           0       0.59      0.22      0.32      9830\n",
            "           1       0.11      0.00      0.01      9032\n",
            "           2       0.00      0.00      0.00       431\n",
            "           3       0.14      0.00      0.00      3328\n",
            "           4       0.34      0.04      0.07      4722\n",
            "           5       0.00      0.00      0.00      3119\n",
            "           6       0.00      0.00      0.00      5598\n",
            "           7       0.00      0.00      0.00      3683\n",
            "           8       0.28      0.75      0.41     20822\n",
            "           9       0.45      0.62      0.52     22688\n",
            "          10       0.67      0.00      0.00      1514\n",
            "          11       0.00      0.00      0.00       769\n",
            "          12       0.30      0.26      0.28      8635\n",
            "          13       0.41      0.44      0.42      9953\n",
            "          14       0.32      0.23      0.27     12357\n",
            "          15       0.00      0.00      0.00      2357\n",
            "\n",
            "    accuracy                           0.35    118838\n",
            "   macro avg       0.23      0.16      0.14    118838\n",
            "weighted avg       0.31      0.35      0.28    118838\n",
            "\n"
          ]
        },
        {
          "output_type": "stream",
          "name": "stderr",
          "text": [
            "/usr/local/lib/python3.7/dist-packages/sklearn/metrics/_classification.py:1318: UndefinedMetricWarning: Precision and F-score are ill-defined and being set to 0.0 in labels with no predicted samples. Use `zero_division` parameter to control this behavior.\n",
            "  _warn_prf(average, modifier, msg_start, len(result))\n"
          ]
        }
      ]
    },
    {
      "cell_type": "code",
      "source": [
        "print(confusion_matrix(y_testset, yhat))"
      ],
      "metadata": {
        "colab": {
          "base_uri": "https://localhost:8080/"
        },
        "id": "cbJfsKuxI1rB",
        "outputId": "9e34286f-e6b9-419d-b257-a58ca397b5b2"
      },
      "execution_count": 37,
      "outputs": [
        {
          "output_type": "stream",
          "name": "stdout",
          "text": [
            "[[ 2114     4     0     0   216     0     0     0  2456  4208     0     0\n",
            "    111   223   498     0]\n",
            " [   78    43     0     2     0     0     0     0  4906   849     0     0\n",
            "   1801   733   620     0]\n",
            " [    0     3     0     0     0     0     0     0   263    44     1     0\n",
            "     37    42    41     0]\n",
            " [  438     2     0     2    30     0     0     0  1440  1036     0     0\n",
            "    138   127   114     1]\n",
            " [  285     1     0     0   171     0     0     0   390  3690     0     0\n",
            "      3    18   164     0]\n",
            " [   28    14     0     0     0     0     0     0  1957   387     0     0\n",
            "    238   168   327     0]\n",
            " [   47    64     0     0     1     0     0     0  3765   596     0     0\n",
            "    329   468   327     1]\n",
            " [   18     3     0     0     0     0     0     0  2638   228     0     0\n",
            "    249   340   207     0]\n",
            " [   82    69     0     2     4     0     0     0 15597  1436     0     0\n",
            "    825  1170  1637     0]\n",
            " [  316    52     0     3    75     0     0     0  5767 14103     0     0\n",
            "    516   796  1060     0]\n",
            " [   21     3     0     0     0     0     0     0   755   446     2     0\n",
            "     67   143    77     0]\n",
            " [    0     7     0     0     0     0     0     0   383    26     0     0\n",
            "    146    89   118     0]\n",
            " [    2     8     0     0     0     0     0     0  4582   180     0     0\n",
            "   2268  1124   471     0]\n",
            " [    1     1     0     0     3     0     0     0  4186   567     0     0\n",
            "    402  4374   419     0]\n",
            " [  147    13     0     5     0     0     0     0  5742  2794     0     0\n",
            "    177   614  2865     0]\n",
            " [    0    99     0     0     1     0     0     0   922   688     0     0\n",
            "    283   255   109     0]]\n"
          ]
        }
      ]
    }
  ]
}